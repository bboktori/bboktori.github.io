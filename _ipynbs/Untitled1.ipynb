{
 "cells": [
  {
   "cell_type": "markdown",
   "metadata": {},
   "source": [
    "jupyter labextension list\n",
    "# installed extension list"
   ]
  },
  {
   "cell_type": "code",
   "execution_count": null,
   "metadata": {},
   "outputs": [],
   "source": []
  },
  {
   "cell_type": "code",
   "execution_count": null,
   "metadata": {},
   "outputs": [],
   "source": [
    "pip install nodejs\n",
    "pip install npm"
   ]
  },
  {
   "cell_type": "code",
   "execution_count": null,
   "metadata": {},
   "outputs": [],
   "source": [
    "https://nodejs.org/en/\n",
    "jupyter labextension install @jupyterlab/git"
   ]
  },
  {
   "cell_type": "code",
   "execution_count": null,
   "metadata": {},
   "outputs": [],
   "source": [
    "jupyter labextension install @jupyterlab/github"
   ]
  },
  {
   "cell_type": "code",
   "execution_count": null,
   "metadata": {},
   "outputs": [],
   "source": [
    "# https://github.com/jupyterlab/jupyterlab-github"
   ]
  },
  {
   "cell_type": "code",
   "execution_count": 1,
   "metadata": {},
   "outputs": [
    {
     "name": "stdout",
     "output_type": "stream",
     "text": [
      "Automatic pdb calling has been turned ON\n"
     ]
    }
   ],
   "source": [
    "%pdb"
   ]
  },
  {
   "cell_type": "code",
   "execution_count": 3,
   "metadata": {},
   "outputs": [
    {
     "name": "stdout",
     "output_type": "stream",
     "text": [
      "NOTE: Enter 'c' at the ipdb>  prompt to continue execution.\n",
      "> \u001b[1;32m<string>\u001b[0m(2)\u001b[0;36m<module>\u001b[1;34m()\u001b[0m\n",
      "\n"
     ]
    },
    {
     "name": "stdin",
     "output_type": "stream",
     "text": [
      "ipdb>  1\n"
     ]
    },
    {
     "name": "stdout",
     "output_type": "stream",
     "text": [
      "1\n"
     ]
    },
    {
     "name": "stdin",
     "output_type": "stream",
     "text": [
      "ipdb>  10\n"
     ]
    },
    {
     "name": "stdout",
     "output_type": "stream",
     "text": [
      "10\n"
     ]
    },
    {
     "name": "stdin",
     "output_type": "stream",
     "text": [
      "ipdb>  11\n"
     ]
    },
    {
     "name": "stdout",
     "output_type": "stream",
     "text": [
      "11\n"
     ]
    },
    {
     "name": "stdin",
     "output_type": "stream",
     "text": [
      "ipdb>  c\n"
     ]
    }
   ],
   "source": [
    "%%debug\n",
    "def fibonachci(n):\n",
    "    if n < 1:\n",
    "        return 1\n",
    "    else:\n",
    "        return fibonachci(n-1) + fibonachci(n-2)"
   ]
  },
  {
   "cell_type": "code",
   "execution_count": 4,
   "metadata": {},
   "outputs": [
    {
     "data": {
      "text/plain": [
       "[<matplotlib.lines.Line2D at 0xc911970>]"
      ]
     },
     "execution_count": 4,
     "metadata": {},
     "output_type": "execute_result"
    }
   ],
   "source": [
    "from matplotlib import pyplot\n",
    "pyplot.plot([1,2,3])"
   ]
  },
  {
   "cell_type": "code",
   "execution_count": 5,
   "metadata": {},
   "outputs": [
    {
     "data": {
      "text/plain": [
       "[<matplotlib.lines.Line2D at 0xcacac50>]"
      ]
     },
     "execution_count": 5,
     "metadata": {},
     "output_type": "execute_result"
    },
    {
     "data": {
      "image/png": "[encoded data removed]",
      "text/plain": [
       "<Figure size 432x288 with 1 Axes>"
      ]
     },
     "metadata": {
      "needs_background": "light"
     },
     "output_type": "display_data"
    }
   ],
   "source": [
    "%matplotlib inline\n",
    "from matplotlib import pyplot\n",
    "pyplot.plot([1,2,3])"
   ]
  },
  {
   "cell_type": "code",
   "execution_count": 6,
   "metadata": {},
   "outputs": [
    {
     "name": "stdout",
     "output_type": "stream",
     "text": [
      "Collecting tqdm\n",
      "  Downloading https://files.pythonhosted.org/packages/9f/3d/7a6b68b631d2ab54975f3a4863f3c4e9b26445353264ef01f465dc9b0208/tqdm-4.32.2-py2.py3-none-any.whl (50kB)\n",
      "Installing collected packages: tqdm\n",
      "Successfully installed tqdm-4.32.2\n"
     ]
    }
   ],
   "source": [
    "!pip install tqdm"
   ]
  },
  {
   "cell_type": "code",
   "execution_count": 12,
   "metadata": {},
   "outputs": [
    {
     "name": "stderr",
     "output_type": "stream",
     "text": [
      "\n",
      "  0%|                                                                                     | 0/10000000 [00:00<?, ?it/s]\n",
      "  1%|▊                                                                  | 122554/10000000 [00:00<00:08, 1223196.44it/s]\n",
      "  3%|█▊                                                                 | 271456/10000000 [00:00<00:07, 1291768.68it/s]\n",
      "  4%|██▊                                                                | 425243/10000000 [00:00<00:07, 1356220.36it/s]\n",
      "  6%|███▉                                                               | 584082/10000000 [00:00<00:06, 1417550.05it/s]\n",
      "  8%|█████                                                              | 757364/10000000 [00:00<00:06, 1498620.47it/s]\n",
      "  9%|██████▎                                                            | 935138/10000000 [00:00<00:05, 1571898.09it/s]\n",
      " 11%|███████▍                                                          | 1118226/10000000 [00:00<00:05, 1640703.69it/s]\n",
      " 13%|████████▌                                                         | 1302615/10000000 [00:00<00:05, 1695907.74it/s]\n",
      " 15%|█████████▉                                                        | 1501709/10000000 [00:00<00:04, 1773899.00it/s]\n",
      " 17%|███████████▏                                                      | 1699082/10000000 [00:01<00:04, 1828458.41it/s]\n",
      " 19%|████████████▌                                                     | 1897036/10000000 [00:01<00:04, 1870298.57it/s]\n",
      " 21%|█████████████▊                                                    | 2083603/10000000 [00:01<00:04, 1867824.11it/s]\n",
      " 23%|██████████████▉                                                   | 2269950/10000000 [00:01<00:04, 1862685.00it/s]\n",
      " 25%|████████████████▎                                                 | 2463303/10000000 [00:01<00:04, 1882341.32it/s]\n",
      " 27%|█████████████████▍                                                | 2651376/10000000 [00:01<00:03, 1861614.76it/s]\n",
      " 28%|██████████████████▋                                               | 2837477/10000000 [00:01<00:04, 1687192.67it/s]\n",
      " 30%|███████████████████▉                                              | 3013304/10000000 [00:01<00:04, 1706736.37it/s]\n",
      " 32%|█████████████████████▏                                            | 3206035/10000000 [00:01<00:03, 1766494.61it/s]\n",
      " 34%|██████████████████████▍                                           | 3394544/10000000 [00:01<00:03, 1799688.66it/s]\n",
      " 36%|███████████████████████▌                                          | 3576123/10000000 [00:02<00:03, 1769466.36it/s]\n",
      " 38%|████████████████████████▊                                         | 3759688/10000000 [00:02<00:03, 1787593.07it/s]\n",
      " 39%|█████████████████████████▉                                        | 3939361/10000000 [00:02<00:03, 1768327.65it/s]\n",
      " 41%|███████████████████████████▏                                      | 4116881/10000000 [00:02<00:03, 1708551.69it/s]\n",
      " 43%|████████████████████████████▍                                     | 4306693/10000000 [00:02<00:03, 1760392.82it/s]\n",
      " 45%|█████████████████████████████▋                                    | 4504274/10000000 [00:02<00:03, 1818960.85it/s]\n",
      " 47%|██████████████████████████████▉                                   | 4690722/10000000 [00:02<00:02, 1831330.27it/s]\n",
      " 49%|████████████████████████████████▏                                 | 4876109/10000000 [00:02<00:02, 1836958.95it/s]\n",
      " 51%|█████████████████████████████████▍                                | 5073788/10000000 [00:02<00:02, 1876015.86it/s]\n",
      " 53%|██████████████████████████████████▊                               | 5267323/10000000 [00:02<00:02, 1892134.84it/s]\n",
      " 55%|████████████████████████████████████                              | 5457014/10000000 [00:03<00:02, 1873037.25it/s]\n",
      " 57%|█████████████████████████████████████▎                            | 5652170/10000000 [00:03<00:02, 1895063.14it/s]\n",
      " 58%|██████████████████████████████████████▌                           | 5842004/10000000 [00:03<00:02, 1880984.70it/s]\n",
      " 60%|███████████████████████████████████████▊                          | 6036582/10000000 [00:03<00:02, 1898897.20it/s]\n",
      " 62%|█████████████████████████████████████████▏                        | 6235245/10000000 [00:03<00:01, 1923091.25it/s]\n",
      " 64%|██████████████████████████████████████████▍                       | 6427781/10000000 [00:03<00:01, 1886228.09it/s]\n",
      " 66%|███████████████████████████████████████████▋                      | 6616721/10000000 [00:03<00:01, 1811002.30it/s]\n",
      " 68%|████████████████████████████████████████████▉                     | 6817008/10000000 [00:03<00:01, 1863371.85it/s]\n",
      " 70%|██████████████████████████████████████████████▎                   | 7011547/10000000 [00:03<00:01, 1886408.57it/s]\n",
      " 72%|███████████████████████████████████████████████▌                  | 7200944/10000000 [00:03<00:01, 1868193.37it/s]\n",
      " 74%|████████████████████████████████████████████████▊                 | 7394874/10000000 [00:04<00:01, 1887912.15it/s]\n",
      " 76%|██████████████████████████████████████████████████                | 7584114/10000000 [00:04<00:01, 1799989.17it/s]\n",
      " 78%|███████████████████████████████████████████████████▎              | 7773161/10000000 [00:04<00:01, 1825194.81it/s]\n",
      " 80%|████████████████████████████████████████████████████▌             | 7956589/10000000 [00:04<00:01, 1781960.58it/s]\n",
      " 82%|█████████████████████████████████████████████████████▊            | 8150373/10000000 [00:04<00:01, 1824822.53it/s]\n",
      " 83%|███████████████████████████████████████████████████████           | 8333714/10000000 [00:04<00:01, 1622165.37it/s]\n",
      " 85%|████████████████████████████████████████████████████████          | 8500703/10000000 [00:04<00:00, 1530455.26it/s]\n",
      " 87%|█████████████████████████████████████████████████████████▍        | 8698155/10000000 [00:04<00:00, 1640402.07it/s]\n",
      " 89%|██████████████████████████████████████████████████████████▌       | 8867496/10000000 [00:04<00:00, 1614918.46it/s]\n",
      " 91%|███████████████████████████████████████████████████████████▊      | 9061004/10000000 [00:05<00:00, 1698568.97it/s]\n",
      " 92%|█████████████████████████████████████████████████████████████     | 9242639/10000000 [00:05<00:00, 1731314.98it/s]\n",
      " 94%|██████████████████████████████████████████████████████████████▏   | 9426080/10000000 [00:05<00:00, 1759818.55it/s]\n",
      " 96%|███████████████████████████████████████████████████████████████▍  | 9604151/10000000 [00:05<00:00, 1695053.26it/s]\n",
      " 98%|████████████████████████████████████████████████████████████████▌ | 9786619/10000000 [00:05<00:00, 1731191.26it/s]\n",
      "100%|█████████████████████████████████████████████████████████████████▊| 9974127/10000000 [00:05<00:00, 1771023.71it/s]\n",
      "100%|█████████████████████████████████████████████████████████████████| 10000000/10000000 [00:05<00:00, 1775541.96it/s]"
     ]
    }
   ],
   "source": [
    "from tqdm import tqdm\n",
    "s = 0\n",
    "for i in tqdm(range(10000000)):\n",
    "    pass"
   ]
  },
  {
   "cell_type": "code",
   "execution_count": 3,
   "metadata": {},
   "outputs": [
    {
     "data": {
      "text/plain": [
       "['TMonitor',\n",
       " 'TqdmDeprecationWarning',\n",
       " 'TqdmExperimentalWarning',\n",
       " 'TqdmKeyError',\n",
       " 'TqdmMonitorWarning',\n",
       " 'TqdmSynchronisationWarning',\n",
       " 'TqdmTypeError',\n",
       " 'TqdmWarning',\n",
       " '__all__',\n",
       " '__builtins__',\n",
       " '__cached__',\n",
       " '__doc__',\n",
       " '__file__',\n",
       " '__loader__',\n",
       " '__name__',\n",
       " '__package__',\n",
       " '__path__',\n",
       " '__spec__',\n",
       " '__version__',\n",
       " '_main',\n",
       " '_monitor',\n",
       " '_tqdm',\n",
       " '_tqdm_gui',\n",
       " '_tqdm_notebook',\n",
       " '_tqdm_pandas',\n",
       " '_utils',\n",
       " '_version',\n",
       " 'main',\n",
       " 'tgrange',\n",
       " 'tnrange',\n",
       " 'tqdm',\n",
       " 'tqdm_gui',\n",
       " 'tqdm_notebook',\n",
       " 'tqdm_pandas',\n",
       " 'trange']"
      ]
     },
     "execution_count": 3,
     "metadata": {},
     "output_type": "execute_result"
    }
   ],
   "source": [
    "import tqdm\n",
    "dir(tqdm)"
   ]
  },
  {
   "cell_type": "markdown",
   "metadata": {},
   "source": [
    "Getting an access token (recommended)\n",
    "You can get an access token by following these steps:\n",
    "\n",
    "Verify your email address with GitHub.\n",
    "Go to your account settings on GitHub and select \"Developer Settings\" from the left panel.\n",
    "On the left, select \"Personal access tokens\"\n",
    "Click the \"Generate new token\" button, and enter your password.\n",
    "Give the token a description, and check the \"repo\" scope box.\n",
    "Click \"Generate token\"\n",
    "You should be given a string which will be your access token.\n",
    "\n",
    "https://github.com/settings/tokens"
   ]
  }
 ],
 "metadata": {
  "kernelspec": {
   "display_name": "Python 3",
   "language": "python",
   "name": "python3"
  },
  "language_info": {
   "codemirror_mode": {
    "name": "ipython",
    "version": 3
   },
   "file_extension": ".py",
   "mimetype": "text/x-python",
   "name": "python",
   "nbconvert_exporter": "python",
   "pygments_lexer": "ipython3",
   "version": "3.7.3"
  }
 },
 "nbformat": 4,
 "nbformat_minor": 4
}
