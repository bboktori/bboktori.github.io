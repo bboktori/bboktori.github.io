{
 "cells": [
  {
   "cell_type": "markdown",
   "metadata": {},
   "source": []
  },
  {
   "cell_type": "markdown",
   "metadata": {},
   "source": [
    "### 확률 변수 및 힉률 분포"
   ]
  },
  {
   "cell_type": "markdown",
   "metadata": {},
   "source": [
    "P(A) : F -> [0, 1]CR\n",
    "$A \\subset S$  \n",
    "$0 \\leq P(A) \\leq 1$  \n",
    "$P(S) = 1$  \n",
    "$P(A_1 \\cup \\mbox{...} \\cup A_k) = P(A_1) + \\mbox{...} + P(A_k)$  \n",
    "$P(A|B) = \\frac{P(A \\cap B)}{P(B)} = \\frac{P(B|A)P(A)}{P(B)}$  \n",
    "$P(A \\cap B) = P(A|B)P(B) = P(B|A)P(A)$  \n",
    "$P(B) = P(A_1 \\cap B)+  \\mbox{...} + P(A_k \\cap B)$  \n"
   ]
  },
  {
   "cell_type": "markdown",
   "metadata": {},
   "source": [
    "### 심슨의 역설\n",
    "전체와 세부는 방향이 반대로 갈 수 있다.  \n",
    "문제를 잘 해석해야 한다. 부분을 잘 나눠야.."
   ]
  },
  {
   "cell_type": "markdown",
   "metadata": {},
   "source": [
    "### 확률 변수 (Random Variable)"
   ]
  },
  {
   "cell_type": "markdown",
   "metadata": {},
   "source": [
    "$$c \\in S, X(c) = x \\in R$$"
   ]
  },
  {
   "cell_type": "markdown",
   "metadata": {},
   "source": [
    "ex) 동전 던지기 X = 1의 확률은\n",
    "S = {H, T} = {1, 0}\n",
    "$$P(X = 1) = P(\\{c \\in S\\} | X(c) = 1\\}) = P(\\{H\\}) = \\frac{1}{2}$$"
   ]
  },
  {
   "cell_type": "markdown",
   "metadata": {},
   "source": [
    "### 확률 분포 (Probabity Distribution)"
   ]
  },
  {
   "cell_type": "markdown",
   "metadata": {},
   "source": [
    "확률변수 X가 가질 수 있는 값과 해당 활률에 대해 나타낸 것  \n",
    "확롤을 계산 할 수 있는 정보를 제공  \n",
    "- 이산확률변수 : X가 취할 수 있는 값이 이산일 때\n",
    "- 연속확률변수 : X가 취할 수 있는 값이 셀 수 없이 많을 때"
   ]
  },
  {
   "cell_type": "markdown",
   "metadata": {},
   "source": [
    "### 이산확률변수 (Discrete Random Variable)"
   ]
  },
  {
   "cell_type": "markdown",
   "metadata": {},
   "source": [
    "확률질량함수 (probability mass function) p(x) 로 표현 가능\n",
    "$$p(x) = P(X = x) = \n",
    "\\left\\{\\begin{array}{ll}\n",
    "P(X = x_i) & \\mbox{if x = x_i(i = 1,2,...)} \\\\\n",
    "0 & \\mbox{ otherwise} \\end{array}\n",
    "\\right.$$\n",
    "- $0 \\leq p(x) \\leq 1$  \n",
    "- $\\Sigma_all_x p(x) = 1$  \n",
    "- $P(a < x \\leq b) = \\Sigma_{a < X \\leq b} p(x)$  "
   ]
  },
  {
   "cell_type": "markdown",
   "metadata": {},
   "source": [
    "### 연속 확률변수 (Continuous Random Variable)"
   ]
  },
  {
   "cell_type": "markdown",
   "metadata": {},
   "source": [
    "확률밀도함수 (Probability Density Function) f(x) 로 표현, $a < X \\leq b$  \n",
    "$$P(a < X \\leq b) = \\int_{a}^{b} f(x) dx$$\n",
    "- $f(x) \\geq 0$  \n",
    "- $\\int_{-\\infty}^{\\infty} f(x) dx = 1$  \n",
    "- $P(a \\leq X \\leq b) = \\int_{a}^{b} f(x) dx$  "
   ]
  },
  {
   "cell_type": "markdown",
   "metadata": {},
   "source": [
    "### 기대값 (Expected Value)"
   ]
  },
  {
   "cell_type": "markdown",
   "metadata": {},
   "source": [
    "확률변수 X의 중심을 나타내는 값, 평균  \n",
    "$$\\mu = E(X) = \\left\\{\\begin{array}{ll} \\Sigma_x xp(x) & \\mbox{(이산확률변수)} \\\\\n",
    "\\int_{-\\infty}^{\\infty} xf(x) dx & \\mbox{(연속확률변수)} \\end{array} \\right.$$\n",
    "확률변수 X의 함수 g(X)의 기대값\n",
    "$$E(g(X)) = \\left\\{\\begin{array}{ll} \\Sigma_x g(x)p(x) & \\mbox{(이산확률변수)} \\\\\n",
    "\\int_{-\\infty}^{\\infty} g(x)f(x) dx & \\mbox{(연속확률변수)} \\end{array} \\right.$$\n",
    "기대값의 성질 : 선형성\n",
    "- $E(aX + b) = aE(X) + b)$ (a, b는 상수)  \n",
    "- $E[ag(X) + bh(X)] = aE(g(X)) + bE(h(X))$ (a, b는 상수)"
   ]
  },
  {
   "cell_type": "markdown",
   "metadata": {},
   "source": [
    "### 분산(Variance)과 표준편차(Standard Deviation)"
   ]
  },
  {
   "cell_type": "markdown",
   "metadata": {},
   "source": [
    "- 분산 (Variance)\n",
    "$$\\sigma^2 = Var(X) = E[(X-\\mu)^2] = \n",
    "\\left\\{\\begin{array}{ll}\n",
    "\\Sigma_x (X - \\mu)^2p(s) & \\mbox{(이상확률변수)} \\\\\n",
    "\\int_{-\\infty}^{\\infty} (X - \\mu)^2f(x) dx & \\mbox{(연속확률변수)} \n",
    "\\end{array} \\right.$$\n",
    "- 표준편차 (Standrad Deviation)\n",
    "$$sd(X) = \\sqrt{Var(X)}$$\n",
    "- $Var(X) = E(X^2) - [E(X)]^2$  \n",
    "- $Var(aX + b) = a^2Var(X)$  \n",
    "- $[E(X)]^2 \\leq E(X^2)$  "
   ]
  },
  {
   "cell_type": "markdown",
   "metadata": {},
   "source": []
  },
  {
   "cell_type": "markdown",
   "metadata": {},
   "source": []
  },
  {
   "cell_type": "markdown",
   "metadata": {},
   "source": []
  }
 ],
 "metadata": {
  "kernelspec": {
   "display_name": "Python 3",
   "language": "python",
   "name": "python3"
  },
  "language_info": {
   "codemirror_mode": {
    "name": "ipython",
    "version": 3
   },
   "file_extension": ".py",
   "mimetype": "text/x-python",
   "name": "python",
   "nbconvert_exporter": "python",
   "pygments_lexer": "ipython3",
   "version": "3.7.4"
  }
 },
 "nbformat": 4,
 "nbformat_minor": 4
}
