{
 "cells": [
  {
   "cell_type": "markdown",
   "metadata": {},
   "source": [
    "title: \"[Database] Normalization\"  \n",
    "categories:  \n",
    "    - study\n",
    "tags:  \n",
    "    - GitHub  \n",
    "    - Jekyll  \n",
    "    - JupyterLab  \n",
    "    - Database\n",
    "---"
   ]
  },
  {
   "cell_type": "markdown",
   "metadata": {},
   "source": [
    "Database Normalization은 관계형 데이터베이스(Relational Database)에서 데이터 중복성(data redundancy)을 최소화하고 데이터 무결성(data integrity)을 향상시키는 테이블 구조화 프로세스이다.\n",
    "\n",
    "1. 고려되지 않은 Insert, Update, Delete 의존성으로부터 관계집합을 배제한다.\n",
    "2. 새로운 자료형에대해 관계집합 재구성의 필요성을 낮춰 생명주기를 연장한다.\n",
    "3. \n",
    "4. 관계집합의 질의에 대해 중\n",
    "\n",
    "1. To free the collection of relations from undesirable insertion, update and deletion dependencies.  \n",
    "2. To reduce the need for restructuring the collection of relations, as new types of data are introduced, and thus increase the life span of application programs.  \n",
    "3. To make the relational model more informative to users.  \n",
    "4. To make the collection of relations neutral to the query statistics, where these statistics are liable to change as time goes by.  \n",
    "— E.F. Codd, \"Further Normalization of the Data Base Relational Model\""
   ]
  },
  {
   "cell_type": "markdown",
   "metadata": {},
   "source": [
    "### base \n"
   ]
  },
  {
   "cell_type": "markdown",
   "metadata": {},
   "source": [
    "### 1NF  \n",
    "all attribute is atomic  \n",
    "all column distinct = row count"
   ]
  },
  {
   "cell_type": "markdown",
   "metadata": {},
   "source": [
    "### 2NF  \n",
    "- non attribute key and "
   ]
  },
  {
   "cell_type": "markdown",
   "metadata": {},
   "source": [
    "### 3NF"
   ]
  },
  {
   "cell_type": "markdown",
   "metadata": {},
   "source": []
  },
  {
   "cell_type": "markdown",
   "metadata": {},
   "source": [
    "### BCNF (Boyce-Codd Normal Form)  \n",
    "where α ⊆ R and β ⊆ R, at least one of the following holds:  \n",
    "α → β is trivial  \n",
    "α is a superkey for R  "
   ]
  },
  {
   "cell_type": "markdown",
   "metadata": {},
   "source": [
    "### Summary\n",
    "\n",
    "NNF : 비 정규화  \n",
    "↓ - 반복 그룹 제거  \n",
    "1NF : all attribute is amtomic\n",
    "↓ - 부분 함수적 종속성 제거  \n",
    "2NF : 1NF + all attribute include key functionally\n",
    "↓ - 이행적 종속성을 제거  \n",
    "3NF : 2NF + all attribute include key\n",
    "↓ - 후보키가 아닌 결정자를 제거  \n",
    "BCNF : 3NF + all candidate key"
   ]
  },
  {
   "cell_type": "code",
   "execution_count": null,
   "metadata": {},
   "outputs": [],
   "source": []
  }
 ],
 "metadata": {
  "kernelspec": {
   "display_name": "Python 3",
   "language": "python",
   "name": "python3"
  },
  "language_info": {
   "codemirror_mode": {
    "name": "ipython",
    "version": 3
   },
   "file_extension": ".py",
   "mimetype": "text/x-python",
   "name": "python",
   "nbconvert_exporter": "python",
   "pygments_lexer": "ipython3",
   "version": "3.7.3"
  }
 },
 "nbformat": 4,
 "nbformat_minor": 4
}
