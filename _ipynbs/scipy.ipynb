{
 "cells": [
  {
   "cell_type": "markdown",
   "metadata": {},
   "source": [
    "python -m pip install --upgrade pip  \n",
    "pip install jupyterlab  \n",
    "pip install numpy  \n",
    "pip install pandas  \n",
    "pip install matplotlib  \n",
    "pip install sklearn  \n",
    "pip install pymysql  \n",
    "pip install sqlalchemy  \n",
    "pip install nbconvert  \n",
    "(install pandoc http://pandoc.org/installing.html)  \n",
    "(install miktex https://miktex.org/download)  \n",
    "\n",
    "import sys\n",
    "\n",
    "# These are the usual ipython objects, including this one you are creating\n",
    "ipython_vars = ['In', 'Out', 'exit', 'quit', 'get_ipython', 'ipython_vars']\n",
    "\n",
    "# Get a sorted list of the objects and their sizes\n",
    "sorted([(x, sys.getsizeof(globals().get(x))) for x in dir() if not x.startswith('_') and x not in sys.modules and x not in ipython_vars], key=lambda x: x[1], reverse=True)"
   ]
  },
  {
   "cell_type": "markdown",
   "metadata": {},
   "source": [
    "picpick 화면 캡쳐 툴"
   ]
  },
  {
   "cell_type": "markdown",
   "metadata": {},
   "source": []
  },
  {
   "cell_type": "markdown",
   "metadata": {},
   "source": []
  }
 ],
 "metadata": {
  "kernelspec": {
   "display_name": "Python 3",
   "language": "python",
   "name": "python3"
  },
  "language_info": {
   "codemirror_mode": {
    "name": "ipython",
    "version": 3
   },
   "file_extension": ".py",
   "mimetype": "text/x-python",
   "name": "python",
   "nbconvert_exporter": "python",
   "pygments_lexer": "ipython3",
   "version": "3.7.4"
  }
 },
 "nbformat": 4,
 "nbformat_minor": 4
}
