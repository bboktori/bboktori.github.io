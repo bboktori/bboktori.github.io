{
 "cells": [
  {
   "cell_type": "markdown",
   "metadata": {},
   "source": [
    "layout: posts  \n",
    "title: \\[DataBase\\] Transaction  \n",
    "date: 2019-08-05  \n",
    "categories:  \n",
    "    - study\n",
    "tags:  \n",
    "    - GitHub  \n",
    "    - Jekyll  \n",
    "    - JupyterLab  \n",
    "    - Database\n",
    "---"
   ]
  },
  {
   "cell_type": "markdown",
   "metadata": {},
   "source": [
    "1. Transaction?\n",
    "1. ACID Properites\n",
    "1. Transaction State  \n",
    "1. Concurrent"
   ]
  },
  {
   "cell_type": "markdown",
   "metadata": {},
   "source": [
    "# Transaction?"
   ]
  },
  {
   "cell_type": "markdown",
   "metadata": {},
   "source": [
    "Transaction is unit of program execution  \n",
    "that accesses and possibly updates various dataitems  \n",
    "Logical Unit of Work  \n",
    "한 번에 수행되어야 할 데이터베이스의 일련의 read/write 연산 수행 단위"
   ]
  },
  {
   "cell_type": "markdown",
   "metadata": {},
   "source": [
    "## ACID Properites"
   ]
  },
  {
   "cell_type": "markdown",
   "metadata": {},
   "source": [
    "- **A**tomicity (원자성)  \n",
    ": 트랜잭션이 중간단계까지만 실행되면 안된다. (All or Nothing)\n",
    "- **C**onsistency (일관성)  \n",
    ": 트랜잭션이 성공했을 경우 Data 정합성이 일치하는 상태가 유지되어야 한다.\n",
    "- **I**solation (고립성)  \n",
    ": 트랜잭션이 실행중에는 다른 트랜잭션의 연산작업이 끼여들지 못한다.\n",
    "- **D**urability (영구성)  \n",
    ": 성공적으로 수행된 트랜잭션 결과는 시스템에 문제가 발생하더라도 영원히 유지되어야 한다."
   ]
  },
  {
   "cell_type": "markdown",
   "metadata": {},
   "source": [
    "## Transaction State  \n",
    "- **Active** : 트랜잭션 시작 상태  \n",
    "- **Parially committed** : 트랜잭션이 마지막 연산까지 실행 된 상태  \n",
    "- **Committed** : 트랜잭션이 성공적으로 완료된 상태  \n",
    "- **Failed** : 트랜잭션이 더 이상 수행할 수 없는 문제가 발생한 상태  \n",
    "- **Aborted** : 트랜잭션이 실패한 후 시작상태 이전으로 되돌린 상태  "
   ]
  },
  {
   "cell_type": "markdown",
   "metadata": {},
   "source": [
    "![transaction_state](https://drive.google.com/uc?id=1JNEjOvkl9k8kCX1S6KbJ_EFl4eMSIn_0)"
   ]
  },
  {
   "cell_type": "markdown",
   "metadata": {},
   "source": [
    "## Concurrency Control"
   ]
  },
  {
   "cell_type": "markdown",
   "metadata": {},
   "source": [
    "여러 트랜잭션이 성공적으로 동시에 실행될 수 있도록 지원하는 기능\n",
    "\n",
    "Concurrency (동시성)\n",
    "Serializability (직렬성)"
   ]
  },
  {
   "cell_type": "markdown",
   "metadata": {},
   "source": []
  },
  {
   "cell_type": "markdown",
   "metadata": {},
   "source": [
    "동시성 문제\n",
    "- Dirty Read\n",
    "- Last Update\n",
    "- Unrepeatable read\n",
    "- Phantom read"
   ]
  },
  {
   "cell_type": "markdown",
   "metadata": {},
   "source": [
    "## Recovery Control"
   ]
  },
  {
   "cell_type": "markdown",
   "metadata": {},
   "source": [
    "\n",
    "## 5. Serializability  \n",
    "Conflict Serializability\n",
    "View Serializability"
   ]
  },
  {
   "cell_type": "markdown",
   "metadata": {},
   "source": [
    "2PL\n",
    "T.O.\n",
    "UVCC"
   ]
  },
  {
   "cell_type": "markdown",
   "metadata": {},
   "source": [
    "## 6. Recoverability\n",
    "non-recoverable schedule\n",
    "recoverable, but with cascading rollback\n",
    "-> recoverable & cascadeless schedule 생성\n",
    "--> commit 되지 않은 데이터에 대한 read 금지"
   ]
  },
  {
   "cell_type": "markdown",
   "metadata": {},
   "source": [
    "## 7. Test for Conflict Serializability\n",
    "Precedence graph (V, E)\n",
    "V : Schedule 에 나타나는 모든 트랜잭션들의 집합\n",
    "E : Set of Ti → Tj\n",
    "- Ti executes write(Q) before Tj executes read(Q)\n",
    "- Ti executes read(Q) before Tj executes write(Q)\n",
    "- Ti executes write(Q) before Tj executes write(Q)\n",
    "\n",
    "Schedure S 에 대한 모든 Precedence graph 가 cycle이 없을 경우"
   ]
  },
  {
   "cell_type": "markdown",
   "metadata": {},
   "source": [
    "dead lock"
   ]
  },
  {
   "cell_type": "markdown",
   "metadata": {},
   "source": []
  }
 ],
 "metadata": {
  "kernelspec": {
   "display_name": "Python 3",
   "language": "python",
   "name": "python3"
  },
  "language_info": {
   "codemirror_mode": {
    "name": "ipython",
    "version": 3
   },
   "file_extension": ".py",
   "mimetype": "text/x-python",
   "name": "python",
   "nbconvert_exporter": "python",
   "pygments_lexer": "ipython3",
   "version": "3.7.3"
  }
 },
 "nbformat": 4,
 "nbformat_minor": 4
}
