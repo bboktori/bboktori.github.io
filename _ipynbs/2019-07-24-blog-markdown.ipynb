{
 "cells": [
  {
   "cell_type": "markdown",
   "metadata": {},
   "source": [
    "title: \"Markdown 문법 정리 (w/ JupyterLab)\"  \n",
    "categories:  \n",
    "    - study\n",
    "    - blog\n",
    "tags:  \n",
    "    - JupyterLab  \n",
    "    - Markdown  \n",
    "---"
   ]
  },
  {
   "cell_type": "markdown",
   "metadata": {},
   "source": [
    "## 1. Markdown 이란?"
   ]
  },
  {
   "cell_type": "markdown",
   "metadata": {},
   "source": [
    "## 2. Header"
   ]
  },
  {
   "cell_type": "markdown",
   "metadata": {},
   "source": [
    "```markdown\n",
    "# heading 1\n",
    "## heading 2\n",
    "### heading 3\n",
    "#### heading 4\n",
    "##### heading 5\n",
    "###### heading 6\n",
    "``` \n",
    "\n",
    "# heading 1\n",
    "## heading 2\n",
    "### heading 3\n",
    "#### heading 4\n",
    "##### heading 5\n",
    "###### heading 6"
   ]
  },
  {
   "cell_type": "markdown",
   "metadata": {},
   "source": [
    "```markdown\n",
    "headin 1\n",
    "===\n",
    "heading 2\n",
    "---\n",
    "``` \n",
    "\n",
    "headin 1\n",
    "===  \n",
    "heading 2\n",
    "---  "
   ]
  },
  {
   "cell_type": "markdown",
   "metadata": {},
   "source": [
    "# 3. Emphasis"
   ]
  },
  {
   "cell_type": "markdown",
   "metadata": {},
   "source": [
    "```markdown\n",
    "*itilic* _itilic_  \n",
    "**bold** __bold__  \n",
    "_**bold** with itilic_ *bold __with__ itilic*  \n",
    "<U>under line</U>  \n",
    "~~cancel line~~  \n",
    "```\n",
    "*itilic* _itilic_  \n",
    "**bold** __bold__  \n",
    "_**bold** with itilic_ *bold __with__ itilic*  \n",
    "<U>under line</U>  \n",
    "~~cancel line~~  "
   ]
  },
  {
   "cell_type": "markdown",
   "metadata": {},
   "source": [
    "## 4. list"
   ]
  },
  {
   "cell_type": "markdown",
   "metadata": {},
   "source": [
    "### Unordered Lists  \n",
    "```markdown\n",
    "- unordered item using -  \n",
    "+ unordered item using +  \n",
    "* unordered item using *  \n",
    "```\n",
    "- unordered item using -  \n",
    "+ unordered item using +  \n",
    "* unordered item using *  "
   ]
  },
  {
   "cell_type": "markdown",
   "metadata": {},
   "source": [
    "### Ordered Lists  \n",
    "```markdown\n",
    "1. first item  \n",
    "2. second item  \n",
    "1. third item  \n",
    "```\n",
    "1. first item  \n",
    "2. second item  \n",
    "1. third item  "
   ]
  },
  {
   "cell_type": "markdown",
   "metadata": {},
   "source": [
    "### Task Lists  \n",
    "```markdown\n",
    "- [ ] check box  \n",
    "- [x] checked  \n",
    "```\n",
    "- [ ] check box  \n",
    "- [x] checked  "
   ]
  },
  {
   "cell_type": "markdown",
   "metadata": {},
   "source": [
    "### Nested and Mixed Lists  \n",
    "```markdown\n",
    "1. first item  \n",
    "  1. first sub item  \n",
    "  2. second sub item  \n",
    "2. second item  \n",
    "  + sub item  \n",
    "  - sub item  \n",
    "  + [x] with check  \n",
    "+ unordered item  \n",
    "  1. first sub item  \n",
    "  2. second sub item  \n",
    "  3. [ ] with check  \n",
    "```\n",
    "1. first item  \n",
    "  1. first sub item  \n",
    "  2. second sub item  \n",
    "2. second item  \n",
    "  + sub item  \n",
    "  - sub item  \n",
    "  + [x] with check  \n",
    "+ unordered item  \n",
    "  1. first sub item  \n",
    "  2. second sub item  \n",
    "  3. [ ] with check  "
   ]
  },
  {
   "cell_type": "markdown",
   "metadata": {},
   "source": [
    "# 5. Link"
   ]
  },
  {
   "cell_type": "markdown",
   "metadata": {},
   "source": [
    "```markdown\n",
    "Some [link](#) can also be shown\n",
    "````\n",
    "Some [link](#) can also be shown"
   ]
  },
  {
   "cell_type": "markdown",
   "metadata": {},
   "source": [
    "# 6. Code"
   ]
  },
  {
   "cell_type": "markdown",
   "metadata": {},
   "source": [
    "```markdown\n",
    "this is a normal block  \n",
    "\n",
    "    this is a code block using tap(4space)\n",
    "end code block\n",
    "```\n",
    "this is a normal paragraph  \n",
    "\n",
    "    this is a code block using tap(4space)  \n",
    "end code block"
   ]
  },
  {
   "cell_type": "markdown",
   "metadata": {},
   "source": [
    "```markdown\n",
    "    ```python\n",
    "    def func(v):\n",
    "        print(v)\n",
    "        \n",
    "    if __name__ == '__main__':\n",
    "        print('hello')\n",
    "    ```\n",
    "```\n",
    "\n",
    "```python\n",
    "def func(v):\n",
    "    print(v)\n",
    "    \n",
    "if __name__ == '__main__':\n",
    "    print('hello')\n",
    "```"
   ]
  },
  {
   "cell_type": "markdown",
   "metadata": {},
   "source": []
  },
  {
   "cell_type": "markdown",
   "metadata": {},
   "source": [
    "## 9. BlockQuote"
   ]
  },
  {
   "cell_type": "markdown",
   "metadata": {},
   "source": [
    "```markdown\n",
    "> Block Quote  \n",
    ">> Second Block Quote  \n",
    ">>> Third Block Quote  \n",
    "\n",
    "> 1. list  \n",
    "- other list\n",
    "```\n",
    "> Block Quote  \n",
    ">> Second Block Quote  \n",
    ">>> Third Block Quote  \n",
    "\n",
    "> 1. list  \n",
    "- other list"
   ]
  },
  {
   "cell_type": "markdown",
   "metadata": {},
   "source": [
    "![이미지 이름](이미지 URL)"
   ]
  },
  {
   "cell_type": "markdown",
   "metadata": {},
   "source": []
  },
  {
   "cell_type": "markdown",
   "metadata": {},
   "source": []
  },
  {
   "cell_type": "code",
   "execution_count": null,
   "metadata": {},
   "outputs": [],
   "source": []
  }
 ],
 "metadata": {
  "kernelspec": {
   "display_name": "Python 3",
   "language": "python",
   "name": "python3"
  },
  "language_info": {
   "codemirror_mode": {
    "name": "ipython",
    "version": 3
   },
   "file_extension": ".py",
   "mimetype": "text/x-python",
   "name": "python",
   "nbconvert_exporter": "python",
   "pygments_lexer": "ipython3",
   "version": "3.7.3"
  }
 },
 "nbformat": 4,
 "nbformat_minor": 4
}
