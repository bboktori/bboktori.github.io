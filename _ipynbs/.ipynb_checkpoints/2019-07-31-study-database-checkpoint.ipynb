{
 "cells": [
  {
   "cell_type": "markdown",
   "metadata": {},
   "source": [
    "layout: posts  \n",
    "title: ERD (w/ Visual Paradigm)  \n",
    "date: 2019-07-31  \n",
    "tags:  \n",
    "    - JupyterLab  \n",
    "    - Jekyll  \n",
    "    - VisualParadigm\n",
    "    - ERD  \n",
    "    - ER Diagram  \n",
    "---"
   ]
  },
  {
   "cell_type": "markdown",
   "metadata": {},
   "source": []
  },
  {
   "cell_type": "markdown",
   "metadata": {},
   "source": [
    "![export](https://photos.google.com/album/AF1QipMmFtO6nrkTzg6l1cqu_IHdj-UvG2D1k1ZzY03G/photo/AF1QipMBVYkSv3KzD-CtfUyAsCaIXq4jC_9mAhYFdnTI)"
   ]
  },
  {
   "cell_type": "markdown",
   "metadata": {},
   "source": [
    "\n",
    "\n",
    "jdbc:mysql://127.0.0.1:3306/erd?characterEncoding=UTF-8&serverTimezone=UTC"
   ]
  },
  {
   "cell_type": "markdown",
   "metadata": {},
   "source": [
    "![test](https://drive.google.com/uc?id=1KRrjXRmUFV7GJeXyTQRuQ-MjTkIYMOva)"
   ]
  }
 ],
 "metadata": {
  "kernelspec": {
   "display_name": "Python 3",
   "language": "python",
   "name": "python3"
  },
  "language_info": {
   "codemirror_mode": {
    "name": "ipython",
    "version": 3
   },
   "file_extension": ".py",
   "mimetype": "text/x-python",
   "name": "python",
   "nbconvert_exporter": "python",
   "pygments_lexer": "ipython3",
   "version": "3.7.3"
  }
 },
 "nbformat": 4,
 "nbformat_minor": 4
}
