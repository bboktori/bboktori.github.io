{
 "cells": [
  {
   "cell_type": "code",
   "execution_count": null,
   "metadata": {},
   "outputs": [],
   "source": [
    "jupyter labextension list\n",
    "# installed extension list"
   ]
  },
  {
   "cell_type": "code",
   "execution_count": null,
   "metadata": {},
   "outputs": [],
   "source": [
    "pip install nodejs\n",
    "pip install npm"
   ]
  },
  {
   "cell_type": "code",
   "execution_count": null,
   "metadata": {},
   "outputs": [],
   "source": [
    "https://nodejs.org/en/\n",
    "jupyter labextension install @jupyterlab/git"
   ]
  },
  {
   "cell_type": "code",
   "execution_count": null,
   "metadata": {},
   "outputs": [],
   "source": [
    "jupyter labextension install @jupyterlab/github"
   ]
  },
  {
   "cell_type": "code",
   "execution_count": null,
   "metadata": {},
   "outputs": [],
   "source": [
    "# https://github.com/jupyterlab/jupyterlab-github"
   ]
  },
  {
   "cell_type": "markdown",
   "metadata": {},
   "source": [
    "Getting an access token (recommended)\n",
    "You can get an access token by following these steps:\n",
    "\n",
    "Verify your email address with GitHub.\n",
    "Go to your account settings on GitHub and select \"Developer Settings\" from the left panel.\n",
    "On the left, select \"Personal access tokens\"\n",
    "Click the \"Generate new token\" button, and enter your password.\n",
    "Give the token a description, and check the \"repo\" scope box.\n",
    "Click \"Generate token\"\n",
    "You should be given a string which will be your access token."
   ]
  }
 ],
 "metadata": {
  "kernelspec": {
   "display_name": "Python 3",
   "language": "python",
   "name": "python3"
  },
  "language_info": {
   "codemirror_mode": {
    "name": "ipython",
    "version": 3
   },
   "file_extension": ".py",
   "mimetype": "text/x-python",
   "name": "python",
   "nbconvert_exporter": "python",
   "pygments_lexer": "ipython3",
   "version": "3.7.3"
  }
 },
 "nbformat": 4,
 "nbformat_minor": 4
}
