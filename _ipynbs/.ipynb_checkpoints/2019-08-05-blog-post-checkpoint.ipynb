{
 "cells": [
  {
   "cell_type": "markdown",
   "metadata": {},
   "source": [
    "title: \"Markdown Post 정리\"  \n",
    "categories:  \n",
    "    - study\n",
    "    - blog\n",
    "tags:  \n",
    "    - GitHub  \n",
    "    - Jekyll  \n",
    "    - JupyterLab  \n",
    "    - Minimal Mistakes\n",
    "    - Markdown  \n",
    "---"
   ]
  },
  {
   "cell_type": "markdown",
   "metadata": {},
   "source": []
  },
  {
   "cell_type": "markdown",
   "metadata": {},
   "source": [
    "## Notice"
   ]
  },
  {
   "cell_type": "markdown",
   "metadata": {},
   "source": [
    "`{: .notice}` can be added after a sentence\n",
    "\n",
    "`{: .notice}`\n",
    "**Changes in Service:** We just updated our [privacy policy](#) here to better service our customers. We recommend reviewing the changes.\n",
    "{: .notice}\n",
    "\n",
    "`{: .notice--primary}`\n",
    "**Primary Notice:** Lorem ipsum dolor sit amet, consectetur adipiscing elit. Integer nec odio. [Praesent libero](#). Sed cursus ante dapibus diam. Sed nisi. Nulla quis sem at nibh elementum imperdiet.\n",
    "{: .notice--primary}\n",
    "\n",
    "`{: .notice--info}`\n",
    "**Info Notice:** Lorem ipsum dolor sit amet, [consectetur adipiscing elit](#). Integer nec odio. Praesent libero. Sed cursus ante dapibus diam. Sed nisi. Nulla quis sem at nibh elementum imperdiet.\n",
    "{: .notice--info}\n",
    "\n",
    "`{: .notice--warning}`\n",
    "**Warning Notice:** Lorem ipsum dolor sit amet, consectetur adipiscing elit. [Integer nec odio](#). Praesent libero. Sed cursus ante dapibus diam. Sed nisi. Nulla quis sem at nibh elementum imperdiet.\n",
    "{: .notice--warning}\n",
    "\n",
    "`{: .notice--danger}`\n",
    "**Danger Notice:** Lorem ipsum dolor sit amet, [consectetur adipiscing](#) elit. Integer nec odio. Praesent libero. Sed cursus ante dapibus diam. Sed nisi. Nulla quis sem at nibh elementum imperdiet.\n",
    "{: .notice--danger}\n",
    "\n",
    "`{: .notice--success}`\n",
    "**Success Notice:** Lorem ipsum dolor sit amet, consectetur adipiscing elit. Integer nec odio. Praesent libero. Sed cursus ante dapibus diam. Sed nisi. Nulla quis sem at [nibh elementum](#) imperdiet.\n",
    "{: .notice--success}\n"
   ]
  },
  {
   "cell_type": "markdown",
   "metadata": {},
   "source": []
  },
  {
   "cell_type": "markdown",
   "metadata": {},
   "source": [
    "## YouTube video embed blow  \n",
    "```markdown\n",
    "<iframe width=\"640\" height=\"360\" src=\"https://www.youtube-nocookie.com/embed/l2Of1-d5E5o?controls=0&amp;showinfo=0\" frameborder=\"0\" allowfullscreen></iframe>\n",
    "```"
   ]
  },
  {
   "cell_type": "markdown",
   "metadata": {},
   "source": [
    "## Link\n",
    "```markdown\n",
    "[link](#)\n",
    "````"
   ]
  },
  {
   "cell_type": "markdown",
   "metadata": {},
   "source": [
    "## Image"
   ]
  },
  {
   "cell_type": "markdown",
   "metadata": {},
   "source": [
    "### Image in Content\n",
    "```markdown\n",
    "![name](image path)]\n",
    "```"
   ]
  },
  {
   "cell_type": "markdown",
   "metadata": {},
   "source": [
    "### Header Image  \n",
    "```markdown\n",
    "header:\n",
    "  image: /assets/images/page-header-image.png\n",
    "  og_image: /assets/images/page-header-og-image.png\n",
    "```"
   ]
  },
  {
   "cell_type": "markdown",
   "metadata": {},
   "source": [
    "### Header overlay Image  \n",
    "```markdown\n",
    "header:\n",
    "  overlay_image: /assets/images/unsplash-image-1.jpg\n",
    "  overlay_filter: 0.5 # same as adding an opacity of 0.5 to a black background\n",
    "  overlay_filter: rgba(255, 0, 0, 0.5)\n",
    "  og_image: /assets/images/page-header-og-image.png\n",
    "  caption: \"Photo credit: [**Unsplash**](https://unsplash.com)\"\n",
    "  actions:\n",
    "    - label: \"Learn More\"\n",
    "      url: \"https://unsplash.com\"\n",
    "```"
   ]
  },
  {
   "cell_type": "markdown",
   "metadata": {},
   "source": [
    "### Teaser Image  \n",
    "```markdown\n",
    "header:\n",
    "  teaser: /assets/images/page-header-teaser.png\n",
    "  og_image: /assets/images/page-header-og-image.png\n",
    "```"
   ]
  },
  {
   "cell_type": "markdown",
   "metadata": {},
   "source": [
    "## List"
   ]
  },
  {
   "cell_type": "markdown",
   "metadata": {},
   "source": [
    "```markdown\n",
    "1. first item  \n",
    "  1. first sub item  \n",
    "  2. second sub item  \n",
    "2. second item  \n",
    "  + sub item  \n",
    "  - sub item  \n",
    "  + [x] with check  \n",
    "+ unordered item  \n",
    "  1. first sub item  \n",
    "  2. second sub item  \n",
    "  3. [ ] with check  \n",
    "```"
   ]
  },
  {
   "cell_type": "markdown",
   "metadata": {},
   "source": [
    "## Table"
   ]
  },
  {
   "cell_type": "markdown",
   "metadata": {},
   "source": [
    "```markdown\n",
    "| Header1 | Header2 | Header3 |\n",
    "|:--------|:-------:|--------:|\n",
    "| cell1   | cell2   | cell3   |\n",
    "| cell4   | cell5   | cell6   |\n",
    "|----\n",
    "| cell1   | cell2   | cell3   |\n",
    "| cell4   | cell5   | cell6   |\n",
    "|=====\n",
    "| Foot1   | Foot2   | Foot3\n",
    "```\n",
    "| Header1 | Header2 | Header3 |\n",
    "|:--------|:-------:|--------:|\n",
    "| cell1   | cell2   | cell3   |\n",
    "| cell4   | cell5   | cell6   |\n",
    "|----\n",
    "| cell1   | cell2   | cell3   |\n",
    "| cell4   | cell5   | cell6   |\n",
    "|=====\n",
    "| Foot1   | Foot2   | Foot3\n"
   ]
  },
  {
   "cell_type": "markdown",
   "metadata": {},
   "source": [
    "## Buttons"
   ]
  },
  {
   "cell_type": "markdown",
   "metadata": {},
   "source": [
    "```html\n",
    "<div markdown=\"0\"><a href=\"#\" class=\"btn\">Primary Button</a></div>\n",
    "<div markdown=\"0\"><a href=\"#\" class=\"btn btn--success\">Success Button</a></div>\n",
    "<div markdown=\"0\"><a href=\"#\" class=\"btn btn--warning\">Warning Button</a></div>\n",
    "<div markdown=\"0\"><a href=\"#\" class=\"btn btn--danger\">Danger Button</a></div>\n",
    "<div markdown=\"0\"><a href=\"#\" class=\"btn btn--info\">Info Button</a></div>\n",
    "```\n",
    "<div markdown=\"0\"><a href=\"#\" class=\"btn\">Primary Button</a></div>\n",
    "<div markdown=\"0\"><a href=\"#\" class=\"btn btn--success\">Success Button</a></div>\n",
    "<div markdown=\"0\"><a href=\"#\" class=\"btn btn--warning\">Warning Button</a></div>\n",
    "<div markdown=\"0\"><a href=\"#\" class=\"btn btn--danger\">Danger Button</a></div>\n",
    "<div markdown=\"0\"><a href=\"#\" class=\"btn btn--info\">Info Button</a></div>"
   ]
  },
  {
   "cell_type": "markdown",
   "metadata": {},
   "source": [
    "## Side Bar"
   ]
  },
  {
   "cell_type": "markdown",
   "metadata": {},
   "source": [
    "```markdown\n",
    "sidebar:\n",
    "  - title: \"Title\"\n",
    "    image: http://placehold.it/350x250\n",
    "    image_alt: \"image\"\n",
    "    text: \"Some text here.\"\n",
    "  - title: \"Another Title\"\n",
    "    text: \"More text here.\"\n",
    "```"
   ]
  },
  {
   "cell_type": "markdown",
   "metadata": {},
   "source": []
  },
  {
   "cell_type": "markdown",
   "metadata": {},
   "source": []
  },
  {
   "cell_type": "markdown",
   "metadata": {},
   "source": []
  },
  {
   "cell_type": "markdown",
   "metadata": {},
   "source": []
  },
  {
   "cell_type": "markdown",
   "metadata": {},
   "source": []
  }
 ],
 "metadata": {
  "kernelspec": {
   "display_name": "Python 3",
   "language": "python",
   "name": "python3"
  },
  "language_info": {
   "codemirror_mode": {
    "name": "ipython",
    "version": 3
   },
   "file_extension": ".py",
   "mimetype": "text/x-python",
   "name": "python",
   "nbconvert_exporter": "python",
   "pygments_lexer": "ipython3",
   "version": "3.7.3"
  }
 },
 "nbformat": 4,
 "nbformat_minor": 4
}
