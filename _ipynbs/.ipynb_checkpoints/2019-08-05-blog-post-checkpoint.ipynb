{
 "cells": [
  {
   "cell_type": "markdown",
   "metadata": {},
   "source": [
    "title: \"Markdown Post 정리\"  \n",
    "categories:  \n",
    "    - study\n",
    "    - blog\n",
    "tags:  \n",
    "    - GitHub  \n",
    "    - Jekyll  \n",
    "    - JupyterLab  \n",
    "    - Minimal Mistakes\n",
    "    - Markdown  \n",
    "---"
   ]
  },
  {
   "cell_type": "markdown",
   "metadata": {},
   "source": []
  },
  {
   "cell_type": "markdown",
   "metadata": {},
   "source": [
    "## Notice"
   ]
  },
  {
   "cell_type": "markdown",
   "metadata": {},
   "source": [
    "`{: .notice}` can be added after a sentence\n",
    "\n",
    "`{: .notice}`\n",
    "**Changes in Service:** We just updated our [privacy policy](#) here to better service our customers. We recommend reviewing the changes.\n",
    "{: .notice}\n",
    "\n",
    "`{: .notice--primary}`\n",
    "**Primary Notice:** Lorem ipsum dolor sit amet, consectetur adipiscing elit. Integer nec odio. [Praesent libero](#). Sed cursus ante dapibus diam. Sed nisi. Nulla quis sem at nibh elementum imperdiet.\n",
    "{: .notice--primary}\n",
    "\n",
    "`{: .notice--info}`\n",
    "**Info Notice:** Lorem ipsum dolor sit amet, [consectetur adipiscing elit](#). Integer nec odio. Praesent libero. Sed cursus ante dapibus diam. Sed nisi. Nulla quis sem at nibh elementum imperdiet.\n",
    "{: .notice--info}\n",
    "\n",
    "`{: .notice--warning}`\n",
    "**Warning Notice:** Lorem ipsum dolor sit amet, consectetur adipiscing elit. [Integer nec odio](#). Praesent libero. Sed cursus ante dapibus diam. Sed nisi. Nulla quis sem at nibh elementum imperdiet.\n",
    "{: .notice--warning}\n",
    "\n",
    "`{: .notice--danger}`\n",
    "**Danger Notice:** Lorem ipsum dolor sit amet, [consectetur adipiscing](#) elit. Integer nec odio. Praesent libero. Sed cursus ante dapibus diam. Sed nisi. Nulla quis sem at nibh elementum imperdiet.\n",
    "{: .notice--danger}\n",
    "\n",
    "`{: .notice--success}`\n",
    "**Success Notice:** Lorem ipsum dolor sit amet, consectetur adipiscing elit. Integer nec odio. Praesent libero. Sed cursus ante dapibus diam. Sed nisi. Nulla quis sem at [nibh elementum](#) imperdiet.\n",
    "{: .notice--success}\n"
   ]
  },
  {
   "cell_type": "markdown",
   "metadata": {},
   "source": []
  },
  {
   "cell_type": "markdown",
   "metadata": {},
   "source": [
    "## YouTube video embed blow  \n",
    "```markdown\n",
    "<iframe width=\"640\" height=\"360\" src=\"https://www.youtube-nocookie.com/embed/l2Of1-d5E5o?controls=0&amp;showinfo=0\" frameborder=\"0\" allowfullscreen></iframe>\n",
    "```"
   ]
  },
  {
   "cell_type": "markdown",
   "metadata": {},
   "source": [
    "### link\n",
    "```markdown\n",
    "[link](#)\n",
    "````"
   ]
  },
  {
   "cell_type": "markdown",
   "metadata": {},
   "source": [
    "### image\n",
    "```markdown\n",
    "![name](image path)]\n",
    "```"
   ]
  },
  {
   "cell_type": "markdown",
   "metadata": {},
   "source": [
    "## header image  \n",
    "```markdown\n",
    "header:\n",
    "  image: /assets/images/page-header-image.png\n",
    "  og_image: /assets/images/page-header-og-image.png\n",
    "```"
   ]
  },
  {
   "cell_type": "markdown",
   "metadata": {},
   "source": [
    "## header overlay image  \n",
    "```markdown\n",
    "header:\n",
    "  overlay_image: /assets/images/unsplash-image-1.jpg\n",
    "  og_image: /assets/images/page-header-og-image.png\n",
    "  caption: \"Photo credit: [**Unsplash**](https://unsplash.com)\"\n",
    "  actions:\n",
    "    - label: \"Learn More\"\n",
    "      url: \"https://unsplash.com\"\n",
    "```"
   ]
  },
  {
   "cell_type": "markdown",
   "metadata": {},
   "source": [
    "## Teaser Image  \n",
    "```markdown\n",
    "header:\n",
    "  teaser: /assets/images/page-header-teaser.png\n",
    "  og_image: /assets/images/page-header-og-image.png\n",
    "```"
   ]
  },
  {
   "cell_type": "markdown",
   "metadata": {},
   "source": []
  },
  {
   "cell_type": "markdown",
   "metadata": {},
   "source": []
  },
  {
   "cell_type": "markdown",
   "metadata": {},
   "source": []
  }
 ],
 "metadata": {
  "kernelspec": {
   "display_name": "Python 3",
   "language": "python",
   "name": "python3"
  },
  "language_info": {
   "codemirror_mode": {
    "name": "ipython",
    "version": 3
   },
   "file_extension": ".py",
   "mimetype": "text/x-python",
   "name": "python",
   "nbconvert_exporter": "python",
   "pygments_lexer": "ipython3",
   "version": "3.7.3"
  }
 },
 "nbformat": 4,
 "nbformat_minor": 4
}
