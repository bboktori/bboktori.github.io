{
 "cells": [
  {
   "cell_type": "markdown",
   "metadata": {},
   "source": [
    "layout: post  \n",
    "title: Markdown 문법 정리 (w/ JupyterLab)  \n",
    "date: 2019-07-25  \n",
    "tags:  \n",
    "    - Markdown  \n",
    "    - JupyterLab  \n",
    "---"
   ]
  },
  {
   "cell_type": "markdown",
   "metadata": {},
   "source": [
    "1. Markdown 이란?\n",
    "2. Headding\n"
   ]
  },
  {
   "cell_type": "markdown",
   "metadata": {},
   "source": [
    "# 1. Markdown 이란?"
   ]
  },
  {
   "cell_type": "markdown",
   "metadata": {},
   "source": [
    "# 2. Header"
   ]
  },
  {
   "cell_type": "markdown",
   "metadata": {},
   "source": [
    "<code class='markdown'>\n",
    "# heading 1\n",
    "## heading 2\n",
    "### heading 3\n",
    "#### heading 4\n",
    "##### heading 5\n",
    "###### heading 6\n",
    "</code>  \n",
    "\n",
    "# heading 1\n",
    "## heading 2\n",
    "### heading 3\n",
    "#### heading 4\n",
    "##### heading 5\n",
    "###### heading 6"
   ]
  },
  {
   "cell_type": "markdown",
   "metadata": {},
   "source": []
  },
  {
   "cell_type": "code",
   "execution_count": 5,
   "metadata": {},
   "outputs": [
    {
     "ename": "SyntaxError",
     "evalue": "invalid syntax (<ipython-input-5-76a003a0490e>, line 1)",
     "output_type": "error",
     "traceback": [
      "\u001b[1;36m  File \u001b[1;32m\"<ipython-input-5-76a003a0490e>\"\u001b[1;36m, line \u001b[1;32m1\u001b[0m\n\u001b[1;33m    headin 1\u001b[0m\n\u001b[1;37m           ^\u001b[0m\n\u001b[1;31mSyntaxError\u001b[0m\u001b[1;31m:\u001b[0m invalid syntax\n"
     ]
    }
   ],
   "source": [
    "headin 1\n",
    "===\n",
    "heading 2\n",
    "---"
   ]
  },
  {
   "cell_type": "markdown",
   "metadata": {},
   "source": [
    "headin 1\n",
    "===  \n",
    "heading 2\n",
    "---  "
   ]
  },
  {
   "cell_type": "markdown",
   "metadata": {},
   "source": [
    "# 3. BlockQuote"
   ]
  },
  {
   "cell_type": "code",
   "execution_count": 6,
   "metadata": {},
   "outputs": [
    {
     "ename": "SyntaxError",
     "evalue": "invalid syntax (<ipython-input-6-fa96e8b5f478>, line 1)",
     "output_type": "error",
     "traceback": [
      "\u001b[1;36m  File \u001b[1;32m\"<ipython-input-6-fa96e8b5f478>\"\u001b[1;36m, line \u001b[1;32m1\u001b[0m\n\u001b[1;33m    > Block Quote\u001b[0m\n\u001b[1;37m    ^\u001b[0m\n\u001b[1;31mSyntaxError\u001b[0m\u001b[1;31m:\u001b[0m invalid syntax\n"
     ]
    }
   ],
   "source": [
    "> Block Quote\n",
    ">> Second Block Quote\n",
    ">>> Third Block Quote\n",
    "\n",
    "> 1. list  \n",
    "- other list"
   ]
  },
  {
   "cell_type": "markdown",
   "metadata": {},
   "source": [
    "> Block Quote  \n",
    ">> Second Block Quote  \n",
    ">>> Third Block Quote  \n",
    "\n",
    "> 1. list  \n",
    "- other list"
   ]
  },
  {
   "cell_type": "markdown",
   "metadata": {},
   "source": [
    "# 4. list"
   ]
  },
  {
   "cell_type": "code",
   "execution_count": null,
   "metadata": {},
   "outputs": [],
   "source": [
    "1. first ordered list\n",
    "2. second ordered list\n",
    "1. third ordered list"
   ]
  },
  {
   "cell_type": "markdown",
   "metadata": {},
   "source": [
    "1. first ordered list\n",
    "2. second ordered list\n",
    "1. third ordered list"
   ]
  },
  {
   "cell_type": "code",
   "execution_count": null,
   "metadata": {},
   "outputs": [],
   "source": [
    "* non ordered list\n",
    "+ non ordered list\n",
    "- non ordered list"
   ]
  },
  {
   "cell_type": "markdown",
   "metadata": {},
   "source": [
    "* non ordered list\n",
    "+ non ordered list\n",
    "- non ordered list"
   ]
  },
  {
   "cell_type": "code",
   "execution_count": null,
   "metadata": {},
   "outputs": [],
   "source": [
    "* non ordered list\n",
    "  + non ordered list\n",
    "    - non ordered list\n",
    "      * non ordered list\n",
    "        + non ordered list\n",
    "          - non ordered list"
   ]
  },
  {
   "cell_type": "markdown",
   "metadata": {},
   "source": [
    "* non ordered list\n",
    "  + non ordered list\n",
    "    - non ordered list\n",
    "      * non ordered list\n",
    "        + non ordered list\n",
    "          - non ordered list"
   ]
  },
  {
   "cell_type": "markdown",
   "metadata": {},
   "source": [
    "# 5. Code Block"
   ]
  },
  {
   "cell_type": "code",
   "execution_count": null,
   "metadata": {},
   "outputs": [],
   "source": [
    "this is a normal block  \n",
    "\n",
    "    this is a code block  \n",
    "end code block"
   ]
  },
  {
   "cell_type": "markdown",
   "metadata": {},
   "source": [
    "this is a normal paragraph  \n",
    "\n",
    "    this is a code block  \n",
    "end code block"
   ]
  },
  {
   "cell_type": "code",
   "execution_count": null,
   "metadata": {},
   "outputs": [],
   "source": [
    "```python\n",
    "def func(v):\n",
    "    print(v)\n",
    "    \n",
    "if __name__ == '__main__':\n",
    "    print('hello')\n",
    "```"
   ]
  },
  {
   "cell_type": "markdown",
   "metadata": {},
   "source": [
    "```python\n",
    "def func(v):\n",
    "    print(v)\n",
    "    \n",
    "if __name__ == '__main__':\n",
    "    print('hello')\n",
    "```"
   ]
  },
  {
   "cell_type": "code",
   "execution_count": 10,
   "metadata": {},
   "outputs": [
    {
     "ename": "SyntaxError",
     "evalue": "invalid syntax (<ipython-input-10-5b971f66ae13>, line 2)",
     "output_type": "error",
     "traceback": [
      "\u001b[1;36m  File \u001b[1;32m\"<ipython-input-10-5b971f66ae13>\"\u001b[1;36m, line \u001b[1;32m2\u001b[0m\n\u001b[1;33m    **bold** __bold__\u001b[0m\n\u001b[1;37m     ^\u001b[0m\n\u001b[1;31mSyntaxError\u001b[0m\u001b[1;31m:\u001b[0m invalid syntax\n"
     ]
    }
   ],
   "source": [
    "*itilic* _itilic_  \n",
    "**bold** __bold__  \n",
    "_**bold** with itilic_ *bold __with__ itilic*  \n",
    "<U>under line</U>  \n",
    "~~cancel line~~  "
   ]
  },
  {
   "cell_type": "markdown",
   "metadata": {},
   "source": [
    "*itilic* _itilic_  \n",
    "**bold** __bold__  \n",
    "_**bold** with itilic_ *bold __with__ itilic*  \n",
    "<U>under line</U>  \n",
    "~~cancel line~~  "
   ]
  },
  {
   "cell_type": "code",
   "execution_count": null,
   "metadata": {},
   "outputs": [],
   "source": []
  },
  {
   "cell_type": "markdown",
   "metadata": {},
   "source": [
    "[] check box  \n",
    "[o] chkeck  \n",
    "[x] uncheck  \n",
    "[v] checked"
   ]
  },
  {
   "cell_type": "code",
   "execution_count": null,
   "metadata": {},
   "outputs": [],
   "source": []
  }
 ],
 "metadata": {
  "kernelspec": {
   "display_name": "Python 3",
   "language": "python",
   "name": "python3"
  },
  "language_info": {
   "codemirror_mode": {
    "name": "ipython",
    "version": 3
   },
   "file_extension": ".py",
   "mimetype": "text/x-python",
   "name": "python",
   "nbconvert_exporter": "python",
   "pygments_lexer": "ipython3",
   "version": "3.7.3"
  }
 },
 "nbformat": 4,
 "nbformat_minor": 4
}
