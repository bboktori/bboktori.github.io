{
 "cells": [
  {
   "cell_type": "markdown",
   "metadata": {},
   "source": [
    "Normal From\n",
    "\n"
   ]
  },
  {
   "cell_type": "markdown",
   "metadata": {},
   "source": []
  },
  {
   "cell_type": "markdown",
   "metadata": {},
   "source": [
    "### 1NF  \n",
    "all attribute is atomic  \n",
    "all column distinct = row count"
   ]
  },
  {
   "cell_type": "markdown",
   "metadata": {},
   "source": [
    "### 2NF  \n",
    "- non attribute key and "
   ]
  },
  {
   "cell_type": "markdown",
   "metadata": {},
   "source": [
    "### 3NF"
   ]
  },
  {
   "cell_type": "markdown",
   "metadata": {},
   "source": []
  },
  {
   "cell_type": "markdown",
   "metadata": {},
   "source": [
    "### BCNF (Boyce-Codd Normal Form)  \n",
    "where α ⊆ R and β ⊆ R, at least one of the following holds:  \n",
    "α → β is trivial  \n",
    "α is a superkey for R  "
   ]
  },
  {
   "cell_type": "markdown",
   "metadata": {},
   "source": [
    "### Summary\n",
    "\n",
    "NNF : 비 정규화  \n",
    "↓ - 반복 그룹 제거  \n",
    "1NF : all attribute is amtomic\n",
    "↓ - 부분 함수적 종속성 제거  \n",
    "2NF : 1NF + all attribute include key functionally\n",
    "↓ - 이행적 종속성을 제거  \n",
    "3NF : 2NF + all attribute include key\n",
    "↓ - 후보키가 아닌 결정자를 제거  \n",
    "BCNF : 3NF + all candidate key"
   ]
  },
  {
   "cell_type": "code",
   "execution_count": null,
   "metadata": {},
   "outputs": [],
   "source": []
  }
 ],
 "metadata": {
  "kernelspec": {
   "display_name": "Python 3",
   "language": "python",
   "name": "python3"
  },
  "language_info": {
   "codemirror_mode": {
    "name": "ipython",
    "version": 3
   },
   "file_extension": ".py",
   "mimetype": "text/x-python",
   "name": "python",
   "nbconvert_exporter": "python",
   "pygments_lexer": "ipython3",
   "version": "3.7.3"
  }
 },
 "nbformat": 4,
 "nbformat_minor": 4
}
