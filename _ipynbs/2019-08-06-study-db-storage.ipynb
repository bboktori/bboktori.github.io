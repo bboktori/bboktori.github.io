{
 "cells": [
  {
   "cell_type": "markdown",
   "metadata": {},
   "source": [
    "title: \"[DataBase] Storage\"  \n",
    "categories:  \n",
    "    - study\n",
    "    - database\n",
    "tags:  \n",
    "    - DataBase  \n",
    "---"
   ]
  },
  {
   "cell_type": "markdown",
   "metadata": {},
   "source": [
    "## Storage Hierarchy  "
   ]
  },
  {
   "cell_type": "markdown",
   "metadata": {},
   "source": [
    "cache : in process L cache  \n",
    "main memory : DRAM  \n",
    "flash memory : Flash  \n",
    "magnetic disk : distk : HDD  \n",
    "optical disk (deprecated)  \n",
    "magnetic tapes (deprecated)  "
   ]
  },
  {
   "cell_type": "markdown",
   "metadata": {},
   "source": [
    "primary storage : cache, main memory  \n",
    "secondary storage : on-line storage, flash memory, magnetic disk  \n",
    "tertiary storage : off-line storage, magnetic tape, optical storage  "
   ]
  },
  {
   "cell_type": "markdown",
   "metadata": {},
   "source": [
    "## Storage Interfaces"
   ]
  },
  {
   "cell_type": "markdown",
   "metadata": {},
   "source": [
    "Direct Connected:  \n",
    "- SATA v3 : 6gbit/sec  \n",
    "- SAS v3 : 12gbit/sec  \n",
    "- NVMe : 24gbit/sec  \n",
    "\n",
    "SAN : Storage Area Networks  \n",
    "NAS : Network Attached Storage  "
   ]
  },
  {
   "cell_type": "markdown",
   "metadata": {},
   "source": [
    "## Performance Measures\n",
    "Access time  \n",
    "- Seek time  \n",
    "- Rotational latency  \n",
    "\n",
    "Data-transfer rate  \n",
    "Disk block  \n",
    "Sequential access pattern\n",
    "Random access pattern  \n",
    "I/O operations per second (IOPS)  \n",
    "Mean time to failure (MTTF)  "
   ]
  },
  {
   "cell_type": "markdown",
   "metadata": {},
   "source": [
    "## Flash Storage"
   ]
  },
  {
   "cell_type": "markdown",
   "metadata": {},
   "source": [
    "inplace update -> HDD only\n",
    "copy on write -> NAND Flash\n",
    "-> FTL (Flash Transition Layer)"
   ]
  },
  {
   "cell_type": "markdown",
   "metadata": {},
   "source": []
  },
  {
   "cell_type": "markdown",
   "metadata": {},
   "source": [
    "## RAID"
   ]
  },
  {
   "cell_type": "markdown",
   "metadata": {},
   "source": [
    "**RAID** : Redundant Arrays of Independent Disks  \n",
    "- **high capacity** and **high speed**  \n",
    "- **high reliability**  "
   ]
  },
  {
   "cell_type": "markdown",
   "metadata": {},
   "source": [
    "**Redundancy**  \n",
    "**Mirroring**_(or shadowing)_  \n",
    "**Striping** (bit or block level)"
   ]
  },
  {
   "cell_type": "markdown",
   "metadata": {},
   "source": [
    "### RAID Levels\n",
    "- RAID 0 : Block Striping\n",
    "- RAID 1 : Disk Mirroring\n",
    "- RAID 2 : Bit Interleaving + hamming\n",
    "- RAID 3 : Bit Interleaving + Parity\n",
    "- RAID 4 : Block Interleaving + Parity → Parity Disk 병목\n",
    "- RAID 5 : Block Interleaving + Parity block distbute\n",
    "- RAID 6 : 2Parity block\n",
    "- RAID 10 (1 + 0) / RAID 01 (0 + 1) : "
   ]
  },
  {
   "cell_type": "markdown",
   "metadata": {},
   "source": [
    "- RAID 5 + Hotspare : "
   ]
  }
 ],
 "metadata": {
  "kernelspec": {
   "display_name": "Python 3",
   "language": "python",
   "name": "python3"
  },
  "language_info": {
   "codemirror_mode": {
    "name": "ipython",
    "version": 3
   },
   "file_extension": ".py",
   "mimetype": "text/x-python",
   "name": "python",
   "nbconvert_exporter": "python",
   "pygments_lexer": "ipython3",
   "version": "3.7.3"
  }
 },
 "nbformat": 4,
 "nbformat_minor": 4
}
