{
 "cells": [
  {
   "cell_type": "markdown",
   "metadata": {},
   "source": [
    "layout: post  \n",
    "title: GitHub Blog 만들기 (w/ Jekyll, JupyterLab)  \n",
    "date: 2019-07-23  \n",
    "tags:  \n",
    "    - GitHub  \n",
    "    - Jekyll  \n",
    "    - JupyterLab  \n",
    "---"
   ]
  },
  {
   "cell_type": "markdown",
   "metadata": {},
   "source": [
    "# 1. Jekyll Fork를 통한 GitHub Blog 생성  "
   ]
  },
  {
   "cell_type": "markdown",
   "metadata": {},
   "source": [
    "1. GitHub 계정 생성  \n",
    "https://github.com/"
   ]
  },
  {
   "cell_type": "markdown",
   "metadata": {},
   "source": [
    "2. Jekyll theme 을 GitHub에 fork  \n",
    "Jekyll theme 중 맘에드는 theme fork  \n",
    "Jekyll Now : https://github.com/barryclark/jekyll-now  \n",
    "Jekyll Themes : https://jekyllthemes.io/  \n",
    "Jekyll Themes : http://jekyllthemes.org/  "
   ]
  },
  {
   "cell_type": "markdown",
   "metadata": {},
   "source": [
    "3. repository 명 [GitHub계정].github.id 으로 변경  \n",
    "GitHub repository - Settings - Repository name Rename"
   ]
  },
  {
   "cell_type": "markdown",
   "metadata": {},
   "source": [
    "4. GitHub Desktop 설치 및 환경변수 설정  \n",
    "https://desktop.github.com/  \n",
    "환경변수 Path : C:\\Users\\\\{ 계정 }\\AppData\\Local\\GitHubDesktop\\app-2.1.0\\resources\\app\\git\\cmd"
   ]
  },
  {
   "cell_type": "markdown",
   "metadata": {},
   "source": [
    "5. Local Git Clone  \n",
    "> git clone http:\\//github.com/{ GitHub id }/{ GitHub id }.github.io.git  \n",
    "git config --global user.name { GitHub id }  \n",
    "git config --global user.password { GitHub password }"
   ]
  },
  {
   "cell_type": "markdown",
   "metadata": {},
   "source": [
    "# 2. JupyterLab setting"
   ]
  },
  {
   "cell_type": "markdown",
   "metadata": {},
   "source": [
    "1. Python 설치  \n",
    "https://www.python.org/downloads/  \n",
    "설치 중 환경변수 Path 추가 : Add Python 3.x Path  \n",
    "또는 환경변수 Path 추가 :  \n",
    "> C:\\Users\\\\{ windows id }\\AppData\\Local\\Programs\\Python\\Python37-32  \n",
    "  C:\\Users\\\\{ windows id }\\AppData\\Local\\Programs\\Python\\Python37-32\\Scripts  "
   ]
  },
  {
   "cell_type": "markdown",
   "metadata": {},
   "source": [
    "2. JupyterLab 설치  \n",
    "> pip install jupyerlab  "
   ]
  },
  {
   "cell_type": "markdown",
   "metadata": {},
   "source": [
    "3. NBConvert 설치  \n",
    "command 실행  \n",
    "> pip install nbconvert  "
   ]
  },
  {
   "cell_type": "markdown",
   "metadata": {},
   "source": [
    "4. Jupyter (.ipynb) → Jekyll (.md) 변환 템플릿 작성  \n",
    "jekyll.tpl 파일 생성\n",
    ">\\{\\% extends 'markdown.tpl' \\%\\}  \n",
    ">\n",
    ">\\{\\%- block header -\\%\\}  \n",
    ">\\---  \n",
    ">\\{\\%- endblock header -\\%\\}"
   ]
  },
  {
   "cell_type": "markdown",
   "metadata": {},
   "source": [
    "5. Jupyter (.ipynb) → Jekyll (.md) 변환 스크립트 작성  \n",
    "post.bat 파일 생성  \n",
    "> jupyter nbconvert --to markdown --template jekyll.tpl _ipynbs/*.ipynb --output-dir=_posts  \n",
    "git add --all  \n",
    "git commit -m \"posted %date% %time%\"  \n",
    "git push -u origin master  "
   ]
  },
  {
   "cell_type": "markdown",
   "metadata": {},
   "source": [
    "# 3. Jekyll 설정"
   ]
  },
  {
   "cell_type": "markdown",
   "metadata": {},
   "source": [
    "1. _config.yml 수정  \n",
    "name, description 수정"
   ]
  },
  {
   "cell_type": "markdown",
   "metadata": {},
   "source": []
  },
  {
   "cell_type": "markdown",
   "metadata": {},
   "source": [
    "# 4. Publish Post"
   ]
  },
  {
   "cell_type": "markdown",
   "metadata": {},
   "source": [
    "1. 파일 이름  \n",
    "YYYY-MM-DD-제목.md  \n",
    "\n",
    "2. 파일 헤더  \n",
    "layout: post  \n",
    "title: [ title ]  \n",
    "\\---  \n",
    "[ contents ]"
   ]
  }
 ],
 "metadata": {
  "kernelspec": {
   "display_name": "Python 3",
   "language": "python",
   "name": "python3"
  },
  "language_info": {
   "codemirror_mode": {
    "name": "ipython",
    "version": 3
   },
   "file_extension": ".py",
   "mimetype": "text/x-python",
   "name": "python",
   "nbconvert_exporter": "python",
   "pygments_lexer": "ipython3",
   "version": "3.7.3"
  }
 },
 "nbformat": 4,
 "nbformat_minor": 4
}
