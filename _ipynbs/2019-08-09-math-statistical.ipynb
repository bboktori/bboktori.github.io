{
 "cells": [
  {
   "cell_type": "markdown",
   "metadata": {},
   "source": [
    "title: \"[Math] Statistical Methods\"  \n",
    "categories:  \n",
    "    - study\n",
    "tags:  \n",
    "    - GitHub  \n",
    "    - Jekyll  \n",
    "    - JupyterLab  \n",
    "    - Math\n",
    "    - Statistical\n",
    "---"
   ]
  },
  {
   "cell_type": "markdown",
   "metadata": {},
   "source": [
    "실험계획법- 농업에서 시작"
   ]
  },
  {
   "cell_type": "markdown",
   "metadata": {},
   "source": [
    "## 1. 확률의 개념"
   ]
  },
  {
   "cell_type": "markdown",
   "metadata": {},
   "source": [
    "### 집합 : 주어진 성질을 만족시키는 개체들의 모임"
   ]
  },
  {
   "cell_type": "markdown",
   "metadata": {},
   "source": [
    "set (집합) : 주어진 성질을 만족시키는 개체들의 몽임\n",
    "이러한 개체를 원소(element) 라고 한다\n",
    "- 원소인지 여부는 명확해야한다 (속하거나, 속하지 않거나)\n",
    "- 원소가 1개 이상일때 원소는 달라야 한다. 같은 원소가 여러개일수 없다.\n",
    "- 원소 나열법 : {1, 2, 3, 4, 6, 12}\n",
    "- 조건 제시법 : {x|x 는 12의 약수이다.}"
   ]
  },
  {
   "cell_type": "markdown",
   "metadata": {},
   "source": [
    "부분집합 (subset):\n",
    "$$A \\subset B$$\n",
    "공집합 (empty set) .. 모든 집합의 부분집합:\n",
    "$$\\phi$$\n",
    "교집합 (intersection):\n",
    "$$A \\cap B = \\{x | (x \\in B)\\ and\\ (x \\in B) \\}$$\n",
    "합집합 (union):\n",
    "$$A \\cup B = \\{x | (x \\in B)\\ or\\ (x \\in B) \\}$$\n",
    "차집합 (subtraction):\n",
    "$$A - B = \\{ x | (x \\in A)\\ and\\ (x \\not\\in B) \\}$$\n",
    "여집합 (complement):\n",
    "$$A^c = \\{x \\in U | x \\not\\in A\\}$$\n",
    "$$A - B = A \\cap B^c$$\n",
    "$$A \\cup A^c = U,\\ A \\cap A^c = \\phi$$"
   ]
  },
  {
   "cell_type": "markdown",
   "metadata": {},
   "source": [
    "드 모르간 법칙 (De Morgan's laws):\n",
    "$$(A \\cup B)^c = A^c \\cap B^c$$\n",
    "$$(A \\cap B)^c = A^c \\cup B^c$$\n",
    "교환법칙 (Commutative laws) :\n",
    "$$A \\cup B = B \\cup A$$\n",
    "$$A \\cap B = B \\cap A$$\n",
    "결합법칙 (Associative laws) :\n",
    "$$(A \\cup B) \\cup C = A \\cup (B \\cup C) = A \\cup B \\cup C$$\n",
    "$$(A \\cap B) \\cap C = A \\cap (B \\cap C) = A \\cap B \\cap C$$\n",
    "분배법칙 (Distributive laws) : \n",
    "$$A \\cup (B \\cap C) = (A \\cup B) \\cap (A \\cup C)$$\n",
    "$$A \\cap (B \\cup C) = (A \\cap B) \\cup (A \\cap C)$$"
   ]
  },
  {
   "cell_type": "markdown",
   "metadata": {},
   "source": [
    "### 확률 : 어떤 사건(event)가 일어날 가능성을 나타내는 개념"
   ]
  },
  {
   "cell_type": "markdown",
   "metadata": {},
   "source": [
    "**표본공간 (Sample Space, S)** : 어떤 시행에서 얻을수 있는 가능한 모든 결과의 집합  \n",
    "**사건 (event, 사상)** : 표본공간의 부분집합으로 보통집합 A, B, C ... 등으로 표현  \n",
    "ex) 두개 동전을 동시에 던져서 앞이 나올 확률  \n",
    "$$S = \\{ HH, HT, TH, TT \\},\\ \\ A=\\{ HH, HT, TH \\} \\subset S$$\n",
    "합사건 : $$A \\cup B$$\n",
    "곱사건 : $$A \\cap B$$\n",
    "여사건 : $$A^c$$\n",
    "배반사건 : $$A \\cap B = \\phi 이면 A와 B는 서로 배반$$"
   ]
  },
  {
   "cell_type": "markdown",
   "metadata": {},
   "source": [
    "### 확률정의 - 등확률 모형의 경우  \n",
    "사건 A가 일어날 확률 P(A)는  \n",
    "$$P(A) = \\frac{사건 A의 원속의 개수}{표본공간 전체의 원소의 개수}$$"
   ]
  },
  {
   "cell_type": "markdown",
   "metadata": {},
   "source": [
    "### 확률측도를 통한 확률의 정의\n",
    "확를측도(Probability Measure)  \n",
    "(1) 표본공간 S에서 임의의 사건 A에 대하여 0 ≤ P(A)  \n",
    "(2) P(S) = 1  \n",
    "(3) 서로 배반인 사건 A1, A2, .. 에 대하여  \n",
    "$$ P(A_1 \\cup A_2 \\cup\\ ... ) = P(A_1) + P(A_2)\\ +\\ ... $$\n",
    "위 공리로 부터 나오는 성질  \n",
    "$$P(\\phi) = 0$$\n",
    "$$A \\subset B 이면 P(A) \\leq P(B)$$\n",
    "$$0 \\leq P(A) \\leq 1$$\n",
    "$$P(A^c) = 1 - P(A)$$\n",
    "$$P(A \\cup B) = P(A) + P(B) - P(A \\cap B)$$"
   ]
  },
  {
   "cell_type": "markdown",
   "metadata": {},
   "source": [
    "### 조건부 확률\n",
    "사건 A가 주어졌을 때 사건 B의 조건부확률은 P(B|A)로 나타내고 P(A) > 0이라는 가정하에\n",
    "$$P(B|A) = \\frac{P(A \\cap B)}{P(A)}$$\n",
    "ex) 세개의 동전을 던지는 경우 앞면이 나온수가 2(A)일때 첫번째 던기지에서  \n",
    "앞면이 나올(B) 확률은?  \n",
    "S = {HHH, HHT, HTH, THH, HTT, THT, TTH, TTT}  \n",
    "A = {HHT, HTH, THH}  \n",
    "B = {HHH, HHT, HTH, HTT}\n",
    "$$P(A|B) = \\frac{P(A \\cap B)}{P(A)} = \\frac{\\frac{2}{8}}{\\frac{3}{8}} = \\frac{2}{3}$$"
   ]
  },
  {
   "cell_type": "markdown",
   "metadata": {},
   "source": [
    "### 곱셈법칙\n",
    "P(A) > 0, P(B) > 0 이면\n",
    "$$P(A \\cap B) = P(A|B)P(B) = P(B|A)P(A)$$\n",
    "$$A, B가\\ 독립이면 P(A \\cap B) = P(A)P(B)$$"
   ]
  },
  {
   "cell_type": "markdown",
   "metadata": {},
   "source": []
  },
  {
   "cell_type": "markdown",
   "metadata": {},
   "source": [
    "### 베이즈 정리(Bayes Theorem)"
   ]
  },
  {
   "cell_type": "markdown",
   "metadata": {},
   "source": [
    "$$P(A|B) = \\frac{P(B|A)P(A)}{P(B)} = \\frac{P(B|A)P(A)}{P(B|A)P(A) + P(B|A^c)P(A^c)} $$"
   ]
  },
  {
   "cell_type": "markdown",
   "metadata": {},
   "source": [
    "P(A), P(B), P(B|A)를 알고 있을때 P(A|B) 구함.\n",
    "$$P(B) = P(B|A)P(A) + P(B|A^c)P(A^c)$$"
   ]
  },
  {
   "cell_type": "markdown",
   "metadata": {},
   "source": []
  },
  {
   "cell_type": "markdown",
   "metadata": {},
   "source": []
  },
  {
   "cell_type": "markdown",
   "metadata": {},
   "source": [
    "$$\\cup\\ \\cap\\ \\subset\\ \\supset\\ \\in\\ \\not\\in\\ \\ni\\ \\not\\ni\\ \\phi$$\n",
    "$$\\frac{abc}{def} \\sqrt{abc}$$\n",
    "∪ ∩ ⊂ ⊃ ∋ ∈ ø\n",
    "$$\\leq$$"
   ]
  },
  {
   "cell_type": "code",
   "execution_count": null,
   "metadata": {},
   "outputs": [],
   "source": []
  }
 ],
 "metadata": {
  "kernelspec": {
   "display_name": "Python 3",
   "language": "python",
   "name": "python3"
  },
  "language_info": {
   "codemirror_mode": {
    "name": "ipython",
    "version": 3
   },
   "file_extension": ".py",
   "mimetype": "text/x-python",
   "name": "python",
   "nbconvert_exporter": "python",
   "pygments_lexer": "ipython3",
   "version": "3.7.4"
  }
 },
 "nbformat": 4,
 "nbformat_minor": 4
}
