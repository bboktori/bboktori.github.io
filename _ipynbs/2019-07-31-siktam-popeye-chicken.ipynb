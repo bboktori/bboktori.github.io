{
 "cells": [
  {
   "cell_type": "markdown",
   "metadata": {},
   "source": [
    "layout: post  \n",
    "title: 금호동 뽀빠이 치킨  \n",
    "date: 2019-07-31  \n",
    "tags:  \n",
    "    - 금호동  \n",
    "    - 뽀빠이치킨  \n",
    "    - 양념치킨\n",
    "    - 옛날후라이드\n",
    "---"
   ]
  },
  {
   "cell_type": "markdown",
   "metadata": {},
   "source": [
    "![금오동 뽀빠이치킨](https://drive.google.com/uc?id=1TFIz8EXjl_b5sgfCepBvrMkwX78rjvhh)"
   ]
  },
  {
   "cell_type": "markdown",
   "metadata": {},
   "source": [
    "옆동네 금호동에서 유명하다고 하는 뽀빠이치킨을 시켜먹었다. \n",
    "\n",
    "1마리랑 2마리랑 금액 차이도 안나고 대부분의 사람들이 2마리 세트를 시키길래 남길 생각으로 후라이드1 + 양념 1 세트를 주문했다.\n",
    "거리에 따라 배달비가 1000원, 2000원으로 다르게 추가된다.\n",
    "주문하면 보통 1시간은 걸린다고 하는데, 8시가 넘어서 주문해서 그런지 40분 만에 도착했다.\n",
    "\n",
    "옛날 통닭 스타일의 짭쪼름한 후라이드와 고추장 맛이 약간 나는 매콤한 양념치킨이다.\n",
    "\n",
    "원래 후라이드 치킨은 별로 안좋아하는데, 튀김이 너무 맛있었다.\n",
    "\n",
    "맛있다라는 평에 인색한 남편도 양념치킨이 맛있다며 엄청 잘 먹었다.\n",
    "\n",
    "우린 결국 그렇게 평일 늦은 저녁에 치킨 2마리를 한방에 해치웠다.\n",
    "\n",
    "또 먹고 싶다. \n",
    "한동안 치킨집은 이곳으로.."
   ]
  }
 ],
 "metadata": {
  "kernelspec": {
   "display_name": "Python 3",
   "language": "python",
   "name": "python3"
  },
  "language_info": {
   "codemirror_mode": {
    "name": "ipython",
    "version": 3
   },
   "file_extension": ".py",
   "mimetype": "text/x-python",
   "name": "python",
   "nbconvert_exporter": "python",
   "pygments_lexer": "ipython3",
   "version": "3.7.3"
  }
 },
 "nbformat": 4,
 "nbformat_minor": 4
}
