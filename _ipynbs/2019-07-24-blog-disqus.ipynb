{
 "cells": [
  {
   "cell_type": "markdown",
   "metadata": {},
   "source": [
    "title: GitHub Blog 에 Disqus 댓글 추가  \n",
    "categories:  \n",
    "    - study\n",
    "tags:\n",
    "    - GitHub\n",
    "    - Disqus  \n",
    "---"
   ]
  },
  {
   "cell_type": "markdown",
   "metadata": {},
   "source": [
    "1. Disqus 가입\n",
    "2. Disqus 설정\n",
    "3. GitHub 연동"
   ]
  },
  {
   "cell_type": "markdown",
   "metadata": {},
   "source": [
    "# 1. Disqus 가입하기  \n",
    "1. signup  \n",
    "https://disqus.com/"
   ]
  },
  {
   "cell_type": "markdown",
   "metadata": {},
   "source": [
    "# 2. Disqus 설정"
   ]
  },
  {
   "cell_type": "markdown",
   "metadata": {},
   "source": [
    "1. GET STARTED → I want to install Disqus on my site  \n",
    "sitename 으로 disqus 주소 생성 됨."
   ]
  },
  {
   "cell_type": "markdown",
   "metadata": {},
   "source": [
    "2. Select Plan (요금제)"
   ]
  },
  {
   "cell_type": "markdown",
   "metadata": {},
   "source": [
    "3. Select Platform  \n",
    "Jekyll 선택  \n",
    "GitHub 입력 예시를 보여준다."
   ]
  },
  {
   "cell_type": "markdown",
   "metadata": {},
   "source": [
    "4. Confiqure Disqus  \n",
    "Complete Setup 버튼을 누르면 완료"
   ]
  },
  {
   "cell_type": "markdown",
   "metadata": {},
   "source": [
    "# 3. GitHub 연동"
   ]
  },
  {
   "cell_type": "markdown",
   "metadata": {},
   "source": [
    "1. _config.yml 수정  \n",
    "disqus : { disqus 계정 }"
   ]
  },
  {
   "cell_type": "markdown",
   "metadata": {},
   "source": [
    "2. post 파일 header 에 추가  \n",
    "\\---  \n",
    "layout: post  \n",
    "comments: true  \n",
    "\\# other options  \n",
    "\\---  "
   ]
  },
  {
   "cell_type": "markdown",
   "metadata": {},
   "source": [
    "3. Jekyll theme 이 기본 제공되지 않을 때  \n",
    "Select Platfrom - Universal Code 의 코드를 _layouts/disque.html 로 만든 후  \n",
    "_layout/post.html 하단에 \\{\\% include disqus.html \\%\\} 추가"
   ]
  }
 ],
 "metadata": {
  "kernelspec": {
   "display_name": "Python 3",
   "language": "python",
   "name": "python3"
  },
  "language_info": {
   "codemirror_mode": {
    "name": "ipython",
    "version": 3
   },
   "file_extension": ".py",
   "mimetype": "text/x-python",
   "name": "python",
   "nbconvert_exporter": "python",
   "pygments_lexer": "ipython3",
   "version": "3.7.3"
  }
 },
 "nbformat": 4,
 "nbformat_minor": 4
}
